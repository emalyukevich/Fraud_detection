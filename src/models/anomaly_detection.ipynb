{
 "cells": [
  {
   "cell_type": "code",
   "execution_count": 18,
   "id": "59389561-b081-4aa8-8598-0367032a6b44",
   "metadata": {},
   "outputs": [],
   "source": [
    "import pandas as pd\n",
    "import numpy as np\n",
    "\n",
    "from sklearn.ensemble import IsolationForest\n",
    "from sklearn.metrics import classification_report, confusion_matrix, roc_auc_score, precision_score, recall_score, f1_score\n",
    "from sklearn.model_selection import train_test_split\n",
    "\n",
    "import matplotlib.pyplot as plt\n",
    "import seaborn as sns"
   ]
  },
  {
   "cell_type": "code",
   "execution_count": 9,
   "id": "3ecedeee-f37e-46df-929f-7c7b4815c51c",
   "metadata": {},
   "outputs": [],
   "source": [
    "df = pd.read_csv('../../data/processed/df_scaled.csv')\n",
    "\n",
    "X = df.drop(columns=['Class'])\n",
    "y = df['Class']"
   ]
  },
  {
   "cell_type": "code",
   "execution_count": 12,
   "id": "8189b57a-0358-4e84-b1eb-bb32ca5b59f6",
   "metadata": {},
   "outputs": [
    {
     "name": "stdout",
     "output_type": "stream",
     "text": [
      "Train size (Class=0 only): (227451, 16)\n",
      "Test size (mixed): (56962, 16)\n"
     ]
    }
   ],
   "source": [
    "X_train_full, X_test, y_train_full, y_test = train_test_split(X, y, test_size=0.2, random_state=42, stratify=y)\n",
    "\n",
    "X_train = X_train_full[y_train_full == 0].copy()\n",
    "y_train = y_train_full[y_train_full == 0].copy()\n",
    "\n",
    "print(f\"Train size (Class=0 only): {X_train.shape}\")\n",
    "print(f\"Test size (mixed): {X_test.shape}\")"
   ]
  },
  {
   "cell_type": "code",
   "execution_count": 16,
   "id": "1a5f508d-a5c8-4cc1-8b02-15bd5ca80d03",
   "metadata": {},
   "outputs": [
    {
     "name": "stdout",
     "output_type": "stream",
     "text": [
      "[[53288  3576]\n",
      " [    9    89]]\n",
      "              precision    recall  f1-score   support\n",
      "\n",
      "           0     0.9998    0.9371    0.9675     56864\n",
      "           1     0.0243    0.9082    0.0473        98\n",
      "\n",
      "    accuracy                         0.9371     56962\n",
      "   macro avg     0.5121    0.9226    0.5074     56962\n",
      "weighted avg     0.9982    0.9371    0.9659     56962\n",
      "\n"
     ]
    }
   ],
   "source": [
    "iso_forest = IsolationForest(\n",
    "    n_estimators = 100,\n",
    "    contamination = 'auto',\n",
    "    random_state = 42,\n",
    "    verbose = 0\n",
    ")\n",
    "iso_forest.fit(X_train)\n",
    "\n",
    "y_pred_test = iso_forest.predict(X_test)\n",
    "y_pred_labels = (y_pred_test == -1).astype(int)\n",
    "\n",
    "print(confusion_matrix(y_test, y_pred_labels))\n",
    "print(classification_report(y_test, y_pred_labels, digits=4))"
   ]
  },
  {
   "cell_type": "code",
   "execution_count": 21,
   "id": "757ec542-7187-4353-af60-ad72a6cf97c1",
   "metadata": {},
   "outputs": [
    {
     "name": "stdout",
     "output_type": "stream",
     "text": [
      "✅ Best threshold with recall ≥ 0.75:\n",
      "Threshold: -0.12173\n",
      "Precision: 0.1434, Recall: 0.7551, F1 Score: 0.2410\n"
     ]
    }
   ],
   "source": [
    "from sklearn.metrics import precision_score, recall_score, f1_score\n",
    "\n",
    "scores_test = iso_forest.decision_function(X_test)\n",
    "thresholds = np.linspace(scores_test.min(), scores_test.max(), 200)\n",
    "\n",
    "results = []\n",
    "\n",
    "for t in thresholds:\n",
    "    y_pred = (scores_test < t).astype(int)\n",
    "    \n",
    "    recall = recall_score(y_test, y_pred)\n",
    "    if recall >= 0.75:  # фильтр по минимальному recall\n",
    "        precision = precision_score(y_test, y_pred, zero_division=0)\n",
    "        f1 = f1_score(y_test, y_pred)\n",
    "        results.append((t, precision, recall, f1))\n",
    "\n",
    "# Проверим, что есть допустимые пороги\n",
    "if results:\n",
    "    # Сортируем по f1 (можно заменить на precision, если нужно)\n",
    "    best_t, best_p, best_r, best_f1 = max(results, key=lambda x: x[3])\n",
    "\n",
    "    print(f\"✅ Best threshold with recall ≥ 0.75:\")\n",
    "    print(f\"Threshold: {best_t:.5f}\")\n",
    "    print(f\"Precision: {best_p:.4f}, Recall: {best_r:.4f}, F1 Score: {best_f1:.4f}\")\n",
    "else:\n",
    "    print(\"❌ Не найдено порогов с recall ≥ 0.75.\")\n"
   ]
  }
 ],
 "metadata": {
  "kernelspec": {
   "display_name": "Python 3 (ipykernel)",
   "language": "python",
   "name": "python3"
  },
  "language_info": {
   "codemirror_mode": {
    "name": "ipython",
    "version": 3
   },
   "file_extension": ".py",
   "mimetype": "text/x-python",
   "name": "python",
   "nbconvert_exporter": "python",
   "pygments_lexer": "ipython3",
   "version": "3.10.13"
  }
 },
 "nbformat": 4,
 "nbformat_minor": 5
}
