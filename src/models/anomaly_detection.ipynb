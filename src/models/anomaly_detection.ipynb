{
 "cells": [
  {
   "cell_type": "code",
   "execution_count": 19,
   "id": "59389561-b081-4aa8-8598-0367032a6b44",
   "metadata": {},
   "outputs": [],
   "source": [
    "import pandas as pd\n",
    "import numpy as np\n",
    "import matplotlib.pyplot as plt\n",
    "import seaborn as sns\n",
    "import joblib\n",
    "\n",
    "from sklearn.ensemble import IsolationForest\n",
    "from sklearn.metrics import classification_report, confusion_matrix, roc_auc_score, precision_score, recall_score, f1_score\n",
    "from sklearn.model_selection import train_test_split\n",
    "from sklearn.svm import OneClassSVM\n",
    "\n",
    "import sys\n",
    "import os\n",
    "\n",
    "module_path = os.path.abspath(os.path.join('..'))  # Подняться на уровень выше (в src/)\n",
    "if module_path not in sys.path:\n",
    "    sys.path.append(module_path)\n",
    "from utils import find_best_threshold"
   ]
  },
  {
   "cell_type": "code",
   "execution_count": 20,
   "id": "4c317a4a-6e3a-465b-8e65-a53a66d7c948",
   "metadata": {},
   "outputs": [],
   "source": [
    "input_path = '../../data/processed/df_scaled.csv'\n",
    "output_path = '../../data/processed/df_for_classifier.csv'\n",
    "model_path = '../../models/oneclass_svm_model.joblib'"
   ]
  },
  {
   "cell_type": "code",
   "execution_count": 21,
   "id": "3ecedeee-f37e-46df-929f-7c7b4815c51c",
   "metadata": {},
   "outputs": [],
   "source": [
    "df = pd.read_csv(input_path)\n",
    "\n",
    "X = df.drop(columns=['Class'])\n",
    "y = df['Class']"
   ]
  },
  {
   "cell_type": "code",
   "execution_count": 66,
   "id": "8189b57a-0358-4e84-b1eb-bb32ca5b59f6",
   "metadata": {},
   "outputs": [
    {
     "name": "stdout",
     "output_type": "stream",
     "text": [
      "Train size (Class=0 only): (199020, 16)\n",
      "Validation size (mixed): (42721, 16)\n",
      "Test size (mixed): (42722, 16)\n"
     ]
    }
   ],
   "source": [
    "# 2. Разделим на train / val / test\n",
    "X_train, X_temp, y_train, y_temp = train_test_split(\n",
    "    X, y, \n",
    "    test_size=0.3, \n",
    "    stratify=y, \n",
    "    random_state=42\n",
    ")\n",
    "\n",
    "# Второе разделение: 30% temp -> 15% val / 15% test (50/50 от temp)\n",
    "X_val, X_test, y_val, y_test = train_test_split(\n",
    "    X_temp, y_temp, \n",
    "    test_size=0.5,  # 0.5 * 0.3 = 0.15 от исходных данных\n",
    "    stratify=y_temp, \n",
    "    random_state=42\n",
    ")\n",
    "\n",
    "X_train = X_train[y_train == 0].copy()\n",
    "y_train = y_train[y_train == 0].copy()\n",
    "\n",
    "print(f\"Train size (Class=0 only): {X_train.shape}\")\n",
    "print(f\"Validation size (mixed): {X_val.shape}\")\n",
    "print(f\"Test size (mixed): {X_test.shape}\")"
   ]
  },
  {
   "cell_type": "code",
   "execution_count": 67,
   "id": "d7454113-60f7-4404-97e3-814b8448afb2",
   "metadata": {},
   "outputs": [],
   "source": [
    "ocsvm = OneClassSVM(kernel='rbf', gamma='auto', nu=0.00173)\n",
    "ocsvm.fit(X_train)\n",
    "\n",
    "ocsvm_scores = ocsvm.decision_function(X_val)  "
   ]
  },
  {
   "cell_type": "code",
   "execution_count": 68,
   "id": "be8e561c-f6cc-4c8b-8766-487009019a57",
   "metadata": {},
   "outputs": [
    {
     "name": "stdout",
     "output_type": "stream",
     "text": [
      "[[42369   278]\n",
      " [   17    57]]\n",
      "              precision    recall  f1-score   support\n",
      "\n",
      "           0     0.9996    0.9935    0.9965     42647\n",
      "           1     0.1701    0.7703    0.2787        74\n",
      "\n",
      "    accuracy                         0.9931     42721\n",
      "   macro avg     0.5849    0.8819    0.6376     42721\n",
      "weighted avg     0.9982    0.9931    0.9953     42721\n",
      "\n"
     ]
    }
   ],
   "source": [
    "y_pred_val = ocsvm.predict(X_val)\n",
    "y_pred_labels = (y_pred_val == -1).astype(int)\n",
    "\n",
    "print(confusion_matrix(y_val, y_pred_labels))\n",
    "print(classification_report(y_val, y_pred_labels, digits=4))"
   ]
  },
  {
   "cell_type": "code",
   "execution_count": 80,
   "id": "4707b472-355b-49e9-8396-5a8e76f4381b",
   "metadata": {},
   "outputs": [
    {
     "name": "stdout",
     "output_type": "stream",
     "text": [
      "Threshold: -0.21708\n",
      "Precision: 0.4074, Recall: 0.7432, F1 Score: 0.5263\n"
     ]
    }
   ],
   "source": [
    "ocsvm_result = find_best_threshold(y_val, ocsvm_scores, target_recall=0.74)\n",
    "print(f\"Threshold: {ocsvm_result['threshold']:.5f}\")\n",
    "print(f\"Precision: {ocsvm_result['precision']:.4f}, Recall: {ocsvm_result['recall']:.4f}, F1 Score: {ocsvm_result['f1']:.4f}\")"
   ]
  },
  {
   "cell_type": "code",
   "execution_count": 81,
   "id": "25f9c6b3-9ebb-4fcf-b9cf-80cc149944d0",
   "metadata": {},
   "outputs": [
    {
     "name": "stdout",
     "output_type": "stream",
     "text": [
      "[[42567    80]\n",
      " [   19    55]]\n",
      "              precision    recall  f1-score   support\n",
      "\n",
      "           0     0.9996    0.9981    0.9988     42647\n",
      "           1     0.4074    0.7432    0.5263        74\n",
      "\n",
      "    accuracy                         0.9977     42721\n",
      "   macro avg     0.7035    0.8707    0.7626     42721\n",
      "weighted avg     0.9985    0.9977    0.9980     42721\n",
      "\n"
     ]
    }
   ],
   "source": [
    "ocsvm_preds = (ocsvm_scores < ocsvm_result['threshold']).astype(int)\n",
    "\n",
    "print(confusion_matrix(y_val, ocsvm_preds))\n",
    "print(classification_report(y_val, ocsvm_preds, digits=4))"
   ]
  },
  {
   "cell_type": "code",
   "execution_count": 84,
   "id": "6e37d985-7047-4032-b3c3-474edcb1cd60",
   "metadata": {},
   "outputs": [
    {
     "name": "stdout",
     "output_type": "stream",
     "text": [
      "-0.2170772639326034\n"
     ]
    }
   ],
   "source": [
    "ANOMALY_THRESHOLD = ocsvm_result['threshold']\n",
    "print(ANOMALY_THRESHOLD)"
   ]
  },
  {
   "cell_type": "code",
   "execution_count": 86,
   "id": "9adc929c-8ddd-42aa-97a1-a8217dcd4771",
   "metadata": {},
   "outputs": [],
   "source": [
    "def add_anomaly_features(X, ocsvm_model, threshold):\n",
    "    X = X.copy()\n",
    "    X['anomaly_score'] = ocsvm_model.decision_function(X)\n",
    "    X['is_anomaly'] = (X['anomaly_score'] < threshold).astype(int)\n",
    "    return X"
   ]
  },
  {
   "cell_type": "code",
   "execution_count": 87,
   "id": "11bfe2a9-da25-4fc2-979f-6c7f2967e1c1",
   "metadata": {},
   "outputs": [],
   "source": [
    "df_train = add_anomaly_features(X_train, ocsvm, ANOMALY_THRESHOLD)\n",
    "df_val = add_anomaly_features(X_val, ocsvm, ANOMALY_THRESHOLD)\n",
    "df_test = add_anomaly_features(X_test, ocsvm, ANOMALY_THRESHOLD)\n",
    "\n",
    "df_train['Class'] = y_train.values\n",
    "df_val['Class'] = y_val.values\n",
    "df_test['Class'] = y_test.values"
   ]
  },
  {
   "cell_type": "code",
   "execution_count": 96,
   "id": "5cef8791-eceb-4751-a116-3a91009825b0",
   "metadata": {},
   "outputs": [
    {
     "data": {
      "text/plain": [
       "['oneclasssvm_anomaly_detector.joblib']"
      ]
     },
     "execution_count": 96,
     "metadata": {},
     "output_type": "execute_result"
    }
   ],
   "source": [
    "df_train.to_csv('../../data/processed/df_train_with_anomaly.csv', index=False)\n",
    "df_val.to_csv('../../data/processed/df_val_with_anomaly.csv', index=False)\n",
    "df_test.to_csv('../../data/processed/df_test_with_anomaly.csv', index=False)\n",
    "\n",
    "joblib.dump(ocsvm, 'oneclasssvm_anomaly_detector.joblib')"
   ]
  }
 ],
 "metadata": {
  "kernelspec": {
   "display_name": "Python 3 (ipykernel)",
   "language": "python",
   "name": "python3"
  },
  "language_info": {
   "codemirror_mode": {
    "name": "ipython",
    "version": 3
   },
   "file_extension": ".py",
   "mimetype": "text/x-python",
   "name": "python",
   "nbconvert_exporter": "python",
   "pygments_lexer": "ipython3",
   "version": "3.10.13"
  }
 },
 "nbformat": 4,
 "nbformat_minor": 5
}
