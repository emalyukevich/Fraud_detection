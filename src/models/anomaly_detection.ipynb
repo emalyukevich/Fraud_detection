{
 "cells": [
  {
   "cell_type": "code",
   "execution_count": 2,
   "id": "59389561-b081-4aa8-8598-0367032a6b44",
   "metadata": {},
   "outputs": [],
   "source": [
    "import pandas as pd\n",
    "import numpy as np\n",
    "\n",
    "from sklearn.ensemble import IsolationForest\n",
    "from sklearn.metrics import classification_report, confusion_matrix, roc_auc_score, precision_score, recall_score, f1_score\n",
    "from sklearn.model_selection import train_test_split\n",
    "from sklearn.svm import OneClassSVM\n",
    "\n",
    "import matplotlib.pyplot as plt\n",
    "import seaborn as sns\n",
    "\n",
    "import sys\n",
    "import os\n",
    "\n",
    "module_path = os.path.abspath(os.path.join('..'))  # Подняться на уровень выше (в src/)\n",
    "if module_path not in sys.path:\n",
    "    sys.path.append(module_path)\n",
    "from utils import find_best_threshold"
   ]
  },
  {
   "cell_type": "code",
   "execution_count": 3,
   "id": "3ecedeee-f37e-46df-929f-7c7b4815c51c",
   "metadata": {},
   "outputs": [],
   "source": [
    "df = pd.read_csv('../../data/processed/df_scaled.csv')\n",
    "\n",
    "X = df.drop(columns=['Class'])\n",
    "y = df['Class']"
   ]
  },
  {
   "cell_type": "code",
   "execution_count": 4,
   "id": "8189b57a-0358-4e84-b1eb-bb32ca5b59f6",
   "metadata": {},
   "outputs": [
    {
     "name": "stdout",
     "output_type": "stream",
     "text": [
      "Train size (Class=0 only): (227451, 16)\n",
      "Test size (mixed): (56962, 16)\n"
     ]
    }
   ],
   "source": [
    "X_train_full, X_test, y_train_full, y_test = train_test_split(X, y, test_size=0.2, random_state=42, stratify=y)\n",
    "\n",
    "X_train = X_train_full[y_train_full == 0].copy()\n",
    "y_train = y_train_full[y_train_full == 0].copy()\n",
    "\n",
    "print(f\"Train size (Class=0 only): {X_train.shape}\")\n",
    "print(f\"Test size (mixed): {X_test.shape}\")"
   ]
  },
  {
   "cell_type": "code",
   "execution_count": 5,
   "id": "d7454113-60f7-4404-97e3-814b8448afb2",
   "metadata": {},
   "outputs": [],
   "source": [
    "ocsvm = OneClassSVM(kernel='rbf', gamma='auto', nu=0.017)\n",
    "ocsvm.fit(X_train)\n",
    "\n",
    "ocsvm_scores = ocsvm.decision_function(X_test)  "
   ]
  },
  {
   "cell_type": "code",
   "execution_count": 6,
   "id": "be8e561c-f6cc-4c8b-8766-487009019a57",
   "metadata": {},
   "outputs": [
    {
     "name": "stdout",
     "output_type": "stream",
     "text": [
      "[[55833  1031]\n",
      " [   13    85]]\n",
      "              precision    recall  f1-score   support\n",
      "\n",
      "           0     0.9998    0.9819    0.9907     56864\n",
      "           1     0.0762    0.8673    0.1400        98\n",
      "\n",
      "    accuracy                         0.9817     56962\n",
      "   macro avg     0.5380    0.9246    0.5654     56962\n",
      "weighted avg     0.9982    0.9817    0.9893     56962\n",
      "\n"
     ]
    }
   ],
   "source": [
    "y_pred_test = ocsvm.predict(X_test)\n",
    "y_pred_labels = (y_pred_test == -1).astype(int)\n",
    "\n",
    "print(confusion_matrix(y_test, y_pred_labels))\n",
    "print(classification_report(y_test, y_pred_labels, digits=4))"
   ]
  },
  {
   "cell_type": "code",
   "execution_count": 7,
   "id": "4707b472-355b-49e9-8396-5a8e76f4381b",
   "metadata": {},
   "outputs": [
    {
     "name": "stdout",
     "output_type": "stream",
     "text": [
      "Threshold: -39.14464\n",
      "Precision: 0.5725, Recall: 0.7653, F1 Score: 0.6550\n"
     ]
    }
   ],
   "source": [
    "ocsvm_result = find_best_threshold(y_test, ocsvm_scores, target_recall=0.75)\n",
    "print(f\"Threshold: {ocsvm_result['threshold']:.5f}\")\n",
    "print(f\"Precision: {ocsvm_result['precision']:.4f}, Recall: {ocsvm_result['recall']:.4f}, F1 Score: {ocsvm_result['f1']:.4f}\")"
   ]
  },
  {
   "cell_type": "code",
   "execution_count": 8,
   "id": "25f9c6b3-9ebb-4fcf-b9cf-80cc149944d0",
   "metadata": {},
   "outputs": [
    {
     "name": "stdout",
     "output_type": "stream",
     "text": [
      "[[56808    56]\n",
      " [   23    75]]\n",
      "              precision    recall  f1-score   support\n",
      "\n",
      "           0     0.9996    0.9990    0.9993     56864\n",
      "           1     0.5725    0.7653    0.6550        98\n",
      "\n",
      "    accuracy                         0.9986     56962\n",
      "   macro avg     0.7861    0.8822    0.8272     56962\n",
      "weighted avg     0.9989    0.9986    0.9987     56962\n",
      "\n"
     ]
    }
   ],
   "source": [
    "ocsvm_preds = (ocsvm_scores < ocsvm_result['threshold']).astype(int)\n",
    "\n",
    "print(confusion_matrix(y_test, ocsvm_preds))\n",
    "print(classification_report(y_test, ocsvm_preds, digits=4))"
   ]
  }
 ],
 "metadata": {
  "kernelspec": {
   "display_name": "Python 3 (ipykernel)",
   "language": "python",
   "name": "python3"
  },
  "language_info": {
   "codemirror_mode": {
    "name": "ipython",
    "version": 3
   },
   "file_extension": ".py",
   "mimetype": "text/x-python",
   "name": "python",
   "nbconvert_exporter": "python",
   "pygments_lexer": "ipython3",
   "version": "3.10.13"
  }
 },
 "nbformat": 4,
 "nbformat_minor": 5
}
